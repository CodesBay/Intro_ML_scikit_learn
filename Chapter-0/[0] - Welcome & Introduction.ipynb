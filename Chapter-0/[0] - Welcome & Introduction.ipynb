{
 "cells": [
  {
   "cell_type": "markdown",
   "metadata": {},
   "source": [
    "   \n",
    "# Video Series: Introduction to Machine Learning with Python & Scikit-Learn\n",
    "\n",
    "\n",
    "## [0] - Introduction (A.I, M.L & Mathematics)\n"
   ]
  },
  {
   "cell_type": "markdown",
   "metadata": {},
   "source": [
    "<br/>"
   ]
  },
  {
   "cell_type": "markdown",
   "metadata": {},
   "source": [
    "_Welcome to the Video Series on Hello World of Machine Leaning with_ ___Scikit-Learn___\n",
    "\n",
    "<br/><br/>\n",
    "\n",
    "_This video series will not make you an expert in Machine Learning, but will provide enough information for you to understand, explore, and exploits the idea behind it._\n",
    "\n",
    "<br/><br/>"
   ]
  },
  {
   "cell_type": "markdown",
   "metadata": {},
   "source": [
    "<br/><br/><br/>"
   ]
  },
  {
   "cell_type": "markdown",
   "metadata": {},
   "source": [
    "### _Maths & Machine Learning_\n",
    "\n",
    "\n",
    "<br/><br/><br/>\n",
    "_We all know that Machine Learning uses Maths, but there is a difference between the way Problem is solved by Mathematics as compared to Machine Learning_"
   ]
  },
  {
   "cell_type": "markdown",
   "metadata": {},
   "source": [
    "___Let's take the example of distance to Airport from DownTown___"
   ]
  },
  {
   "cell_type": "markdown",
   "metadata": {},
   "source": [
    "<br/><br/><br/>"
   ]
  },
  {
   "cell_type": "markdown",
   "metadata": {},
   "source": [
    "### Prerequisite\n",
    "\n",
    "___Install Anaconda Navigator into your laptops from___\n",
    "\n",
    "### https://www.anaconda.com/distribution/#download-section\n",
    "\n",
    "<br/>\n",
    "\n",
    "___Tutorial Notebooks will be available @___\n",
    "\n",
    "### https://github.com/CodesBay/Intro_ML_scikit_learn\n"
   ]
  },
  {
   "cell_type": "markdown",
   "metadata": {},
   "source": [
    "<br/><br/><br/>"
   ]
  },
  {
   "cell_type": "markdown",
   "metadata": {},
   "source": [
    "### Checking the environment"
   ]
  },
  {
   "cell_type": "markdown",
   "metadata": {},
   "source": [
    "<br/><br/>"
   ]
  },
  {
   "cell_type": "code",
   "execution_count": 4,
   "metadata": {},
   "outputs": [],
   "source": [
    "import numpy\n",
    "import sklearn\n",
    "import scipy\n",
    "import pandas"
   ]
  },
  {
   "cell_type": "markdown",
   "metadata": {},
   "source": [
    "<br/><br/>\n"
   ]
  },
  {
   "cell_type": "markdown",
   "metadata": {},
   "source": [
    "<br/><br/><br/><br/><br/><br/><br/>\n",
    "\n",
    "### Tutorial Agenda\n",
    "\n",
    "   \n",
    "- #### [0] Introduction (A.I., M.L & Mathematics)\n",
    "- #### [1] The need of M.L.\n",
    "- #### [2] Machine Learning Algorithms - _Supervised, UnSupervised & Reinforcement_\n",
    "- #### [3] Scikit-Learn - Introduction\n",
    "- #### [4] Machine Learning Prerequisite - NumPy and Matplotlib\n",
    "- #### [5] Iris: The Hello World ML Dataset from Scikit-Learn\n",
    "- #### [6] Supervised Learning - Linear Regression\n",
    "- #### [7] Supervised Learning - K-Nearest Neighbour\n",
    "- #### [8] Unsupervised Learning - K-Mean Clustering\n",
    "- #### [9] Managing Real World M.L.Data - Using Pandas\n",
    "- #### [10] K-Mean Clustering - Real World Data & Pandas\n",
    "- #### [11] Excrcise - Mapping Application \n"
   ]
  },
  {
   "cell_type": "markdown",
   "metadata": {},
   "source": [
    "<br/>"
   ]
  },
  {
   "cell_type": "markdown",
   "metadata": {},
   "source": [
    "<br/>"
   ]
  },
  {
   "cell_type": "markdown",
   "metadata": {},
   "source": [
    "<br/>"
   ]
  },
  {
   "cell_type": "markdown",
   "metadata": {},
   "source": [
    "### [0] What is A.I, M.L, and D.L?"
   ]
  },
  {
   "cell_type": "markdown",
   "metadata": {},
   "source": [
    "<br/><br/>\n",
    "\n",
    "#### A.I. -> Any decision (non code) taken without direct intervention or supervision of the human brain\n",
    "\n",
    "<br/><br/>"
   ]
  },
  {
   "cell_type": "markdown",
   "metadata": {},
   "source": [
    "<br/>"
   ]
  },
  {
   "cell_type": "markdown",
   "metadata": {},
   "source": [
    "<img src=\"AI.png\" width=\"200\" height=\"200\">"
   ]
  },
  {
   "cell_type": "markdown",
   "metadata": {},
   "source": [
    "<img src=\"ML.png\" width=\"200\" height=\"200\">"
   ]
  },
  {
   "cell_type": "markdown",
   "metadata": {},
   "source": [
    "<img src=\"DL.png\" width=\"200\" height=\"200\">\n",
    "\n",
    "<br/>"
   ]
  },
  {
   "cell_type": "markdown",
   "metadata": {},
   "source": [
    "<br/><br/>"
   ]
  },
  {
   "cell_type": "markdown",
   "metadata": {},
   "source": [
    "<br/><br/><br/>"
   ]
  }
 ],
 "metadata": {
  "kernelspec": {
   "display_name": "Python 3",
   "language": "python",
   "name": "python3"
  },
  "language_info": {
   "codemirror_mode": {
    "name": "ipython",
    "version": 3
   },
   "file_extension": ".py",
   "mimetype": "text/x-python",
   "name": "python",
   "nbconvert_exporter": "python",
   "pygments_lexer": "ipython3",
   "version": "3.7.1"
  }
 },
 "nbformat": 4,
 "nbformat_minor": 2
}
